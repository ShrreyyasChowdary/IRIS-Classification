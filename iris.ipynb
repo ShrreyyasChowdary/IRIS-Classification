{
 "cells": [
  {
   "cell_type": "code",
   "execution_count": 11,
   "id": "879c2d49-8939-48a8-8418-5deb1b37476b",
   "metadata": {},
   "outputs": [
    {
     "name": "stdout",
     "output_type": "stream",
     "text": [
      "Cross-Validation Accuracy Scores: [0.96666667 0.96666667 0.93333333 0.96666667 1.        ]\n",
      "Mean Accuracy: 0.97\n",
      "Predicted species: Setosa\n"
     ]
    },
    {
     "name": "stderr",
     "output_type": "stream",
     "text": [
      "C:\\Users\\Kiran\\anaconda3\\Lib\\site-packages\\sklearn\\base.py:493: UserWarning: X does not have valid feature names, but KNeighborsClassifier was fitted with feature names\n",
      "  warnings.warn(\n"
     ]
    }
   ],
   "source": [
    "import pandas as pd\n",
    "from sklearn.neighbors import KNeighborsClassifier\n",
    "from sklearn.model_selection import cross_val_score\n",
    "from sklearn.preprocessing import LabelEncoder\n",
    "\n",
    "data = pd.read_csv('iris.csv')\n",
    "\n",
    "le = LabelEncoder()\n",
    "data['variety'] = le.fit_transform(data['variety'])\n",
    "\n",
    "X = data.drop(columns='variety')  # Make sure X has meaningful column names\n",
    "y = data['variety']\n",
    "\n",
    "knn = KNeighborsClassifier(n_neighbors=3)\n",
    "\n",
    "scores = cross_val_score(knn, X, y, cv=5)\n",
    "print(f'Cross-Validation Accuracy Scores: {scores}')\n",
    "print(f'Mean Accuracy: {scores.mean():.2f}')\n",
    "\n",
    "knn.fit(X, y)\n",
    "\n",
    "new_sample = [[5.1, 3.5, 1.4, 0.2]]  \n",
    "prediction = knn.predict(new_sample)\n",
    "predicted_species = le.inverse_transform(prediction)\n",
    "print(f'Predicted species: {predicted_species[0]}')\n"
   ]
  },
  {
   "cell_type": "code",
   "execution_count": null,
   "id": "9f495e6a-4a72-448a-afde-86a306d33930",
   "metadata": {},
   "outputs": [],
   "source": []
  },
  {
   "cell_type": "code",
   "execution_count": null,
   "id": "cc397bb5-faca-4d61-a690-86c5d9fa8391",
   "metadata": {},
   "outputs": [],
   "source": []
  }
 ],
 "metadata": {
  "kernelspec": {
   "display_name": "Python 3 (ipykernel)",
   "language": "python",
   "name": "python3"
  },
  "language_info": {
   "codemirror_mode": {
    "name": "ipython",
    "version": 3
   },
   "file_extension": ".py",
   "mimetype": "text/x-python",
   "name": "python",
   "nbconvert_exporter": "python",
   "pygments_lexer": "ipython3",
   "version": "3.11.7"
  }
 },
 "nbformat": 4,
 "nbformat_minor": 5
}
